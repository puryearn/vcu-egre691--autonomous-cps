{
 "cells": [
  {
   "cell_type": "code",
   "execution_count": 1,
   "metadata": {},
   "outputs": [],
   "source": [
    "import numpy as np\n",
    "from math import cos, sin, pi"
   ]
  },
  {
   "cell_type": "markdown",
   "metadata": {},
   "source": [
    "# Building and Transforming Coordinates\n",
    "In this exercise you will expand upon our lecture content by building your own vector manipulations in 2D and 3D Cartesian space.\n",
    "First, **implement a 2D rotation transformation**, `rotation_2d`, with input `theta`. \n",
    "It should return the $2\\times 2$ matrix $R(\\theta)$."
   ]
  },
  {
   "cell_type": "code",
   "execution_count": 2,
   "metadata": {},
   "outputs": [],
   "source": [
    "def rotation_2d(theta):\n",
    "    return np.array([[cos(theta), -sin(theta)],[sin(theta), cos(theta)]])"
   ]
  },
  {
   "cell_type": "markdown",
   "metadata": {},
   "source": [
    "Consider a coordinate frame, $A$, that is rotated $\\frac{\\pi}{2} \\ rad$ relative to the origin frame $O$. Let ${}^Ap = [1.0 \\ 0.0]^T$.\n",
    "Predict what this vector would be with respect to the **original coordinate frame**, $O$ (Draw a picture!).\n",
    "Apply your implement transformation function to verify!"
   ]
  },
  {
   "cell_type": "code",
   "execution_count": 3,
   "metadata": {},
   "outputs": [
    {
     "name": "stdout",
     "output_type": "stream",
     "text": [
      "[[ 6.123234e-17 -1.000000e+00]\n",
      " [ 1.000000e+00  6.123234e-17]]\n",
      "[[0.]\n",
      " [1.]]\n"
     ]
    }
   ],
   "source": [
    "# Prediction: we should have a vector [0.0 -1.0]^T\n",
    "pA = np.array([1.,0.]).reshape(2,1)\n",
    "# Apply your function...I rounded to make the numbers not so tiny.\n",
    "R_OA = rotation_2d(pi/2.)\n",
    "print(R_OA)\n",
    "print(np.round(R_OA.dot(pA)))"
   ]
  },
  {
   "cell_type": "markdown",
   "metadata": {},
   "source": [
    "Now, let's put this together with translation to make a `rigid_transformation2d` function that will take a vector, ${}^Xp$, defined in some frame $X$ and map it to a target frame $Y$.\n",
    "\n",
    "**Inputs**: angle of rotation, $\\theta$, and relative translation vector, ${}^Y\\xi_X$.\n",
    "\n",
    "**Outputs**: The $3 \\times 3$ homogeneous matrix.\n",
    "\n",
    "Useful `numpy` APIs: [`block`](https://numpy.org/doc/stable/reference/generated/numpy.block.html), [`append`](https://numpy.org/doc/stable/reference/generated/numpy.append.html)."
   ]
  },
  {
   "cell_type": "code",
   "execution_count": 4,
   "metadata": {},
   "outputs": [],
   "source": [
    "def rigid_transformation2d(theta, xi):\n",
    "    return np.block([[rotation_2d(theta), xi],[np.zeros((1,2)), 1.0]])"
   ]
  },
  {
   "cell_type": "markdown",
   "metadata": {},
   "source": [
    "Based on the diagram in the class notes, let coordinate frame $A$ be translated by ${}^O\\xi_A=[1.0, 1.0]^T$ and rotated by $\\theta=\\pi/2$ **relative to** $O$.\n",
    "What is the vector ${}^Ap=[1.0, 2.0]^T$ in the $O$ coordinate frame? (e.g. ${}^Op$)"
   ]
  },
  {
   "cell_type": "code",
   "execution_count": 5,
   "metadata": {},
   "outputs": [
    {
     "name": "stdout",
     "output_type": "stream",
     "text": [
      "[[ 6.123234e-17 -1.000000e+00  1.000000e+00]\n",
      " [ 1.000000e+00  6.123234e-17  1.000000e+00]\n",
      " [ 0.000000e+00  0.000000e+00  1.000000e+00]]\n"
     ]
    }
   ],
   "source": [
    "xi_OA = np.array([1.0, 1.0]).reshape(2,1)\n",
    "T_OA = rigid_transformation2d(pi/2.0, xi_OA)\n",
    "print(T_OA)"
   ]
  },
  {
   "cell_type": "code",
   "execution_count": 6,
   "metadata": {},
   "outputs": [
    {
     "name": "stdout",
     "output_type": "stream",
     "text": [
      "[[-1.]\n",
      " [ 2.]\n",
      " [ 1.]]\n"
     ]
    }
   ],
   "source": [
    "pA_hom = np.array([1.,2.,1.]).reshape(3,1)\n",
    "print(T_OA.dot(pA_hom))"
   ]
  },
  {
   "cell_type": "markdown",
   "metadata": {},
   "source": [
    "With **same** details for frame $O$ and $A$, what would ${}^Op=[1.0, 0.0]^T$ be **with respect to frame** $A$?"
   ]
  },
  {
   "cell_type": "code",
   "execution_count": 7,
   "metadata": {},
   "outputs": [
    {
     "name": "stdout",
     "output_type": "stream",
     "text": [
      "[[-1.]\n",
      " [-0.]\n",
      " [ 1.]]\n"
     ]
    }
   ],
   "source": [
    "# We use the fact that T_OA^-1 = T_AO!\n",
    "pO_hom = np.array([1.0, 0.0, 1.0]).reshape(3,1)\n",
    "T_AO = np.linalg.inv(T_OA)\n",
    "print(np.round(T_AO.dot(pO_hom)))"
   ]
  },
  {
   "cell_type": "code",
   "execution_count": 10,
   "metadata": {},
   "outputs": [
    {
     "name": "stdout",
     "output_type": "stream",
     "text": [
      "[[ 3.83012702]\n",
      " [-3.3660254 ]\n",
      " [ 1.        ]]\n"
     ]
    }
   ],
   "source": [
    "ap = np.array([2.0, 1.0, 1.0]).reshape(3,1)\n",
    "\n",
    "xi_oa = np.array([4., 1.]).reshape(2,1)\n",
    "xi_ob = np.array([1.,3.]).reshape(2,1)\n",
    "\n",
    "t_oa = rigid_transformation2d(0, xi_oa)\n",
    "op = t_oa.dot(ap)\n",
    "\n",
    "t_ob = rigid_transformation2d(pi/6, xi_ob)\n",
    "t_bo = np.linalg.inv(t_ob)\n",
    "\n",
    "bp = t_bo.dot(op)\n",
    "print(bp)"
   ]
  }
 ],
 "metadata": {
  "kernelspec": {
   "display_name": "Python 3",
   "language": "python",
   "name": "python3"
  },
  "language_info": {
   "codemirror_mode": {
    "name": "ipython",
    "version": 3
   },
   "file_extension": ".py",
   "mimetype": "text/x-python",
   "name": "python",
   "nbconvert_exporter": "python",
   "pygments_lexer": "ipython3",
   "version": "3.8.2"
  }
 },
 "nbformat": 4,
 "nbformat_minor": 4
}