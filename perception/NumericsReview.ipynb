{
 "cells": [
  {
   "cell_type": "markdown",
   "metadata": {},
   "source": [
    "# Numerics Review\n",
    "This notebook provides exercises to review our required math background and how to use `numpy` and `scipy`.\n",
    "Useful documentation:\n",
    "+ [numpy](https://numpy.org/doc/stable/reference/)\n",
    "+ [scipy Linear Algebra](https://docs.scipy.org/doc/scipy/reference/tutorial/linalg.html)\n",
    "+ [scipy Statistics](https://docs.scipy.org/doc/scipy/reference/stats.html)"
   ]
  },
  {
   "cell_type": "code",
   "execution_count": 1,
   "metadata": {},
   "outputs": [],
   "source": [
    "import numpy as np\n",
    "import scipy.stats as stats\n",
    "import scipy.linalg as linalg\n",
    "# For pretty pictures!\n",
    "import matplotlib.pyplot as plt"
   ]
  },
  {
   "cell_type": "markdown",
   "metadata": {},
   "source": [
    "## Linear Algebra - Vectors and Matrices\n",
    "\n",
    "`numpy` stores vectors and matrices in efficient array data structures. \n",
    "You build them using the `array()` constructor. \n",
    "Topics for review:\n",
    "+ Matrices, vectors in code\n",
    "+ Products\n",
    "+ Inverse\n",
    "+ Eigenvalues"
   ]
  },
  {
   "cell_type": "markdown",
   "source": [
    "### Vectors and Matrices"
   ],
   "metadata": {
    "collapsed": false,
    "pycharm": {
     "name": "#%% md\n"
    }
   }
  },
  {
   "cell_type": "code",
   "execution_count": 2,
   "metadata": {},
   "outputs": [
    {
     "name": "stdout",
     "output_type": "stream",
     "text": [
      "Shape:  (2, 1)\n",
      "x1:  [[1.]\n",
      " [1.]]\n"
     ]
    }
   ],
   "source": [
    "x1 = np.array([[1.],[1.]])\n",
    "print('Shape: ', x1.shape)\n",
    "print('x1: ', x1)"
   ]
  },
  {
   "cell_type": "code",
   "execution_count": 3,
   "outputs": [
    {
     "name": "stdout",
     "output_type": "stream",
     "text": [
      "[[1. 2.]]\n",
      "(1, 2)\n"
     ]
    }
   ],
   "source": [
    "x2 = np.array([1., 2.]).reshape(1,2)\n",
    "print(x2)\n",
    "print(x2.shape)"
   ],
   "metadata": {
    "collapsed": false,
    "pycharm": {
     "name": "#%%\n"
    }
   }
  },
  {
   "cell_type": "code",
   "execution_count": 4,
   "outputs": [
    {
     "name": "stdout",
     "output_type": "stream",
     "text": [
      "[[1. 2.]\n",
      " [3. 2.]]\n"
     ]
    }
   ],
   "source": [
    "A1 = np.array([[1.,2.],[3.,2.]])\n",
    "print(A1)"
   ],
   "metadata": {
    "collapsed": false,
    "pycharm": {
     "name": "#%%\n"
    }
   }
  },
  {
   "cell_type": "code",
   "execution_count": null,
   "metadata": {},
   "outputs": [],
   "source": [
    "x1 = np.ones((2,1), dtype=np.float32)\n",
    "x2 = np.array([1., 2.], dtype=np.float32).reshape(1,2)\n",
    "A1 = np.array([[1., 2.],[3., 2.]], dtype=np.float32)"
   ]
  },
  {
   "cell_type": "code",
   "execution_count": null,
   "metadata": {},
   "outputs": [],
   "source": [
    "x3 = x1.dot(x2)\n",
    "print(x3)"
   ]
  },
  {
   "cell_type": "code",
   "execution_count": null,
   "metadata": {},
   "outputs": [],
   "source": [
    "x4 = x2.dot(x1)\n",
    "print(x4)"
   ]
  },
  {
   "cell_type": "code",
   "execution_count": null,
   "metadata": {},
   "outputs": [],
   "source": [
    "y = A1.dot(x1)\n",
    "print(y)"
   ]
  },
  {
   "cell_type": "code",
   "execution_count": null,
   "metadata": {},
   "outputs": [],
   "source": [
    "z = A1.dot(A1)\n",
    "print(z)"
   ]
  },
  {
   "cell_type": "code",
   "execution_count": null,
   "metadata": {},
   "outputs": [],
   "source": [
    "A2 = np.array([[1., 2.],[2., 6.]])\n",
    "A2inv = linalg.inv(A2)\n",
    "print(A2inv.dot(A2))"
   ]
  },
  {
   "cell_type": "code",
   "execution_count": null,
   "metadata": {},
   "outputs": [],
   "source": [
    "l,v = linalg.eig(A2)\n",
    "print(\"Eigenvalues: {0}\".format(l))\n",
    "print(\"Eigenvectors: {0}\".format(v))"
   ]
   "execution_count": 5,
   "outputs": [
    {
     "name": "stdout",
     "output_type": "stream",
     "text": [
      "[[1. 2.]\n",
      " [1. 2.]]\n"
     ]
    }
   ],
   "source": [
    "# Element wise multiplication\n",
    "x3 = x2*x1\n",
    "print(x3)"
   ],
   "metadata": {
    "collapsed": false,
    "pycharm": {
     "name": "#%%\n"
    }
   }
  },
  {
   "cell_type": "code",
   "execution_count": 6,
   "outputs": [
    {
     "name": "stdout",
     "output_type": "stream",
     "text": [
      "[[3.]]\n",
      "(1, 1)\n"
     ]
    }
   ],
   "source": [
    "# Dot multiplication\n",
    "x3 = np.dot(x2, x1)\n",
    "print(x3)\n",
    "print(x3.shape)"
   ],
   "metadata": {
    "collapsed": false,
    "pycharm": {
     "name": "#%%\n"
    }
   }
  },
  {
   "cell_type": "code",
   "execution_count": 7,
   "outputs": [
    {
     "name": "stdout",
     "output_type": "stream",
     "text": [
      "[[1. 2.]\n",
      " [1. 2.]]\n",
      "(2, 2)\n"
     ]
    }
   ],
   "source": [
    "x4 = np.dot(x1, x2)\n",
    "print(x4)\n",
    "print(x4.shape)"
   ],
   "metadata": {
    "collapsed": false,
    "pycharm": {
     "name": "#%%\n"
    }
   }
  },
  {
   "cell_type": "code",
   "execution_count": 8,
   "outputs": [
    {
     "name": "stdout",
     "output_type": "stream",
     "text": [
      "[[3.]\n",
      " [5.]]\n",
      "(2, 1)\n"
     ]
    }
   ],
   "source": [
    "# Alternate dot multiplication syntax\n",
    "y = A1.dot(x1)\n",
    "print(y)\n",
    "print(y.shape)"
   ],
   "metadata": {
    "collapsed": false,
    "pycharm": {
     "name": "#%%\n"
    }
   }
  },
  {
   "cell_type": "code",
   "execution_count": 9,
   "outputs": [
    {
     "name": "stdout",
     "output_type": "stream",
     "text": [
      "[[ 7.  6.]\n",
      " [ 9. 10.]]\n",
      "(2, 2)\n"
     ]
    }
   ],
   "source": [
    "z = A1.dot(A1)\n",
    "print(z)\n",
    "print(z.shape)"
   ],
   "metadata": {
    "collapsed": false,
    "pycharm": {
     "name": "#%%\n"
    }
   }
  },
  {
   "cell_type": "markdown",
   "source": [
    "### Matrix Inverse and Eigenvalues/Eigenvectors"
   ],
   "metadata": {
    "collapsed": false,
    "pycharm": {
     "name": "#%% md\n"
    }
   }
  },
  {
   "cell_type": "code",
   "execution_count": 10,
   "outputs": [
    {
     "name": "stdout",
     "output_type": "stream",
     "text": [
      "[[1. 2.]\n",
      " [2. 5.]]\n"
     ]
    }
   ],
   "source": [
    "A2 = np.array([[1.,2.],[2.,5.]])\n",
    "print(A2)"
   ],
   "metadata": {
    "collapsed": false,
    "pycharm": {
     "name": "#%%\n"
    }
   }
  },
  {
   "cell_type": "code",
   "execution_count": 11,
   "outputs": [
    {
     "data": {
      "text/plain": "array([[ 5., -2.],\n       [-2.,  1.]])"
     },
     "execution_count": 11,
     "metadata": {},
     "output_type": "execute_result"
    }
   ],
   "source": [
    "linalg.inv(A2)"
   ],
   "metadata": {
    "collapsed": false,
    "pycharm": {
     "name": "#%%\n"
    }
   }
  },
  {
   "cell_type": "code",
   "execution_count": 12,
   "outputs": [
    {
     "name": "stdout",
     "output_type": "stream",
     "text": [
      "[0.17157288+0.j 5.82842712+0.j]\n",
      "[[-0.92387953 -0.38268343]\n",
      " [ 0.38268343 -0.92387953]]\n",
      "[-0.92387953  0.38268343]\n",
      "[-0.92387953 -0.38268343]\n"
     ]
    }
   ],
   "source": [
    "lambdas, eigenvectors = linalg.eig(A2)\n",
    "print(lambdas)\n",
    "\n",
    "# 2 eigenvectors in an array\n",
    "print(eigenvectors)\n",
    "\n",
    "# Grab first eigenvector\n",
    "print(eigenvectors[:,0])\n",
    "\n",
    "# Alternatively\n",
    "print(eigenvectors[0])"
   ],
   "metadata": {
    "collapsed": false,
    "pycharm": {
     "name": "#%%\n"
    }
   }
  },
  {
   "cell_type": "markdown",
   "source": [
    "### Sensor noise\n",
    "\n",
    "\n"
   ],
   "metadata": {
    "collapsed": false,
    "pycharm": {
     "name": "#%% md\n"
    }
   }
  },
  {
   "cell_type": "markdown",
   "metadata": {},
   "source": [
    "## Probability and Stats\n",
    "\n",
    "`numpy` and `scipy` provide useful APIs for modeling distributions and performing statistics on data arrays.\n",
    "Use the code block below for in-class exercises.\n",
    "Topics for review:\n",
    "+ Data arrays\n",
    "+ Mean, mode, median\n",
    "+ Probability distributions"
   ]
  },
  {
   "cell_type": "code",
   "execution_count": null,
   "metadata": {},
   "outputs": [],
   "source": [
    "d = np.array([.5, .55, .42, .46, .52, .36])"
   ]
  },
  {
   "cell_type": "markdown",
   "metadata": {},
   "source": [
    "Various statistical functions over numpy arrays. Very useful!"
   ]
  },
  {
   "cell_type": "code",
   "execution_count": null,
   "metadata": {},
   "outputs": [],
   "source": [
    "print(np.mean(d))\n",
    "print(np.median(d))\n",
    "print(np.std(d))\n",
    "print(np.var(d))"
   ]
  },
  {
   "cell_type": "markdown",
   "metadata": {},
   "source": [
    "Let's say our laser sensor has **zero mean** Gaussian noise with $\\sigma=0.05$.\n",
    "We can build a single variable Gaussian distribution that models the sensor."
   ]
  },
  {
   "cell_type": "code",
   "execution_count": null,
   "metadata": {},
   "outputs": [],
   "source": [
    "# A silly model of the laser measuring a wall 0.5 m away.\n",
    "laser_model = stats.norm(loc=0.5, scale=0.05)\n",
    "# Sample 5 measurements from this distribution\n",
    "print(laser_model.rvs(5))"
   ]
  },
  {
   "cell_type": "code",
   "execution_count": null,
   "metadata": {},
   "outputs": [],
   "source": [
    "fig, ax = plt.subplots(1, 1)\n",
    "#fig.set_size_inches((5,4))\n",
    "# PDF\n",
    "x = np.linspace(laser_model.ppf(0.01),laser_model.ppf(0.99), 100)\n",
    "ax.plot(x, laser_model.pdf(x),'k', lw=3, label='Laser Model PDF')\n",
    "lots_of_samples = laser_model.rvs(1000)\n",
    "ax.hist(lots_of_samples, density=True, histtype='stepfilled', alpha=0.2)\n",
    "plt.show()"
   ]
  },
  {
   "cell_type": "code",
   "execution_count": null,
   "metadata": {},
   "outputs": [],
   "source": [
    "uni_dist = stats.uniform(loc=-1, scale=2)\n",
    "fig, ax = plt.subplots(1, 1)\n",
    "#fig.set_size_inches((5,4))\n",
    "x = np.linspace(uni_dist.ppf(0.01), uni_dist.ppf(0.99),100)\n",
    "ax.plot(x, uni_dist.pdf(x),'k',lw=3)\n",
    "uni_samples = uni_dist.rvs(1000)\n",
    "#fig.set_size_inches((5,4))\n",
    "ax.hist(uni_samples, density=True, histtype='stepfilled', alpha=0.2)\n",
    "plt.show()"
   ]
  },
  {
   "cell_type": "markdown",
   "metadata": {},
   "source": [
    "## PDFs for Sensor Modeling\n",
    "Basic sensor model: a **range-bearing** sensor.\n",
    "This sensor returns the distance and angle from a detector's $x$-axis for an object within its cone of detection."
   ]
  },
  {
   "cell_type": "code",
   "execution_count": null,
   "metadata": {},
   "outputs": [],
   "source": [
    "from math import atan2, atan\n",
    "\n",
    "def r_2d(x_obj, x_s):\n",
    "    return linalg.norm(x_obj-x_s)\n",
    "\n",
    "def bearing_2d(x_obj, x_s):\n",
    "    return atan2((x_obj[1]-x_s[1]), (x_obj[0]-x_s[0]))"
   ]
  },
  {
   "cell_type": "code",
   "execution_count": null,
   "metadata": {},
   "outputs": [],
   "source": [
    "Sigma = np.array([[0.05, 0.0],[0.0,0.01]])"
   ]
  },
  {
   "cell_type": "code",
   "execution_count": null,
   "metadata": {},
   "outputs": [],
   "source": [
    "# Example noise with the covariance matrix Sigma\n",
    "noise_samples = stats.multivariate_normal(cov=Sigma).rvs(1000)\n",
    "fig, ax = plt.subplots(1, 1)\n",
    "fig.set_size_inches((6,4))\n",
    "# This scatter plot is in the dimensions of r and theta, not the 2d plane\n",
    "# Note the scales are different since the covariances differ by an order of magnitude\n",
    "ax.scatter(noise_samples[:,0], noise_samples[:,1])\n",
    "plt.show()"
   ]
  },
  {
   "cell_type": "code",
   "execution_count": null,
   "metadata": {},
   "outputs": [],
   "source": [
    "# A function that models a range-bearing measurement based on \n",
    "# system position, x_t, and the detected object, x_obj\n",
    "def measure(x_obj, x_t):\n",
    "    h = np.array([r_2d(x_obj, x_t), bearing_2d(x_obj, x_t)])\n",
    "    return stats.multivariate_normal(mean=h, cov=Sigma).rvs()"
   ]
  },
  {
   "cell_type": "code",
   "execution_count": null,
   "metadata": {},
   "outputs": [],
   "source": [
    "xo = np.array([1,1])\n",
    "xs = np.array([0,0])"
   ]
  },
  {
   "cell_type": "code",
   "execution_count": null,
   "metadata": {},
   "outputs": [],
   "source": [
    "print(\"Exact measurement: {0}\".format([r_2d(xo, xs), bearing_2d(xo, xs)]))\n",
    "print(\"Noisy measurement: {0}\".format(measure(xo, xs)))"
   ]
  },
  {
   "cell_type": "code",
   "execution_count": null,
   "metadata": {},
   "outputs": [],
   "source": [
    "ps = np.array([measure(xo, xs) for i in range(1000)])\n",
    "xlocs = ps[:,0]*np.cos(ps[:,1])\n",
    "ylocs = ps[:,0]*np.sin(ps[:,1])"
   ]
  },
  {
   "cell_type": "code",
   "execution_count": null,
   "metadata": {},
   "outputs": [],
   "source": [
    "fig, ax = plt.subplots(1, 1)\n",
    "fig.set_size_inches((7,5))\n",
    "ax.scatter(xlocs,ylocs, marker='o')\n",
    "ax.set(xlim=(0,2), ylim=(0,2))\n",
    "plt.show()"
   ]
  },
  {
   "cell_type": "code",
   "execution_count": 16,
   "outputs": [
    {
     "name": "stdout",
     "output_type": "stream",
     "text": [
      "Mean of d:  0.47000000000000003\n",
      "0.5\n",
      "0.06985699678629194\n",
      "0.004880000000000002\n",
      "Five samples:  [0.45791058 0.49485715 0.47960379 0.44608373 0.4952777 ]\n"
     ]
    }
   ],
   "source": [
    "d = [.5, .55, .42, .52, .36]\n",
    "d_mean = np.mean(d)\n",
    "print('Mean of d: ', d_mean)\n",
    "\n",
    "print(np.median(d))\n",
    "print(np.std(d))\n",
    "print(np.var(d))\n",
    "\n",
    "laser_model = stats.norm(loc=d_mean, scale=0.05)\n",
    "five_samples = laser_model.rvs(5)\n",
    "print('Five samples: ', five_samples)"
   ],
   "metadata": {
    "collapsed": false,
    "pycharm": {
     "name": "#%%\n"
    }
   }
  },
  {
   "cell_type": "code",
   "execution_count": 17,
   "outputs": [],
   "source": [
    "import matplotlib.pyplot as plt"
   ],
   "metadata": {
    "collapsed": false,
    "pycharm": {
     "name": "#%%\n"
    }
   }
  },
  {
   "cell_type": "code",
   "execution_count": 20,
   "outputs": [
    {
     "name": "stderr",
     "output_type": "stream",
     "text": [
      "c:\\users\\nathan\\documents\\workspace\\vcu-egre691--autonomous-cps\\venv\\lib\\site-packages\\ipykernel_launcher.py:7: UserWarning: Matplotlib is currently using module://ipykernel.pylab.backend_inline, which is a non-GUI backend, so cannot show the figure.\n",
      "  import sys\n"
     ]
    },
    {
     "data": {
      "text/plain": "<Figure size 432x288 with 1 Axes>",
      "image/png": "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\n"
     },
     "metadata": {
      "needs_background": "light"
     },
     "output_type": "display_data"
    }
   ],
   "source": [
    "fig, ax = plt.subplots(1,1)\n",
    "x = np.linspace(laser_model.ppf(0.01), laser_model.ppf(0.99), 100)\n",
    "ax.plot(x, laser_model.pdf(x), 'k', lw=3)\n",
    "lots_of_samples = laser_model.rvs(1000)\n",
    "ax.hist(lots_of_samples, density=True, histtype='stepfilled', alpha=0.2)"
   ],
   "metadata": {
    "collapsed": false,
    "pycharm": {
     "name": "#%%\n"
    }
   }
  },
  {
   "cell_type": "code",
   "execution_count": null,
   "outputs": [],
   "source": [
    "#stats.uniform()"
   ],
   "metadata": {
    "collapsed": false,
    "pycharm": {
     "name": "#%%\n"
    }
   }
  },
  {
   "cell_type": "code",
   "execution_count": 22,
   "outputs": [],
   "source": [
    "from math import atan2"
   ],
   "metadata": {
    "collapsed": false,
    "pycharm": {
     "name": "#%%\n"
    }
   }
  },
  {
   "cell_type": "code",
   "execution_count": 24,
   "outputs": [],
   "source": [
    "def r_2d(x_obj, x_s):\n",
    "    return linalg.norm(x_obj - x_s)\n",
    "\n",
    "def bearing_2d(x_obj, x_s):\n",
    "    return atan2((x_obj[1] - x_s[1]),(x_obj[0] - x_s[0]))"
   ],
   "metadata": {
    "collapsed": false,
    "pycharm": {
     "name": "#%%\n"
    }
   }
  },
  {
   "cell_type": "code",
   "execution_count": 39,
   "outputs": [],
   "source": [
    "Sigma = np.array([[0.05, 0.0],[0.0,0.1]])\n"
   ],
   "metadata": {
    "collapsed": false,
    "pycharm": {
     "name": "#%%\n"
    }
   }
  },
  {
   "cell_type": "code",
   "execution_count": 40,
   "outputs": [],
   "source": [
    "# v = stats.multivariate_normal(cov = Sigma)"
   ],
   "metadata": {
    "collapsed": false,
    "pycharm": {
     "name": "#%%\n"
    }
   }
  },
  {
   "cell_type": "code",
   "execution_count": 41,
   "outputs": [],
   "source": [
    "def measure(x_obj, x_s):\n",
    "    h = np.array([r_2d(x_obj,x_s), bearing_2d(x_obj, x_s)])\n",
    "    return stats.multivariate_normal(mean = h, cov=Sigma).rvs()"
   ],
   "metadata": {
    "collapsed": false,
    "pycharm": {
     "name": "#%%\n"
    }
   }
  },
  {
   "cell_type": "code",
   "execution_count": 42,
   "outputs": [
    {
     "data": {
      "text/plain": "array([1.12167298, 0.69761335])"
     },
     "execution_count": 42,
     "metadata": {},
     "output_type": "execute_result"
    }
   ],
   "source": [
    "xo = np.array([1,1])\n",
    "xs = np.array([0,0])\n",
    "\n",
    "measure(xo, xs)"
   ],
   "metadata": {
    "collapsed": false,
    "pycharm": {
     "name": "#%%\n"
    }
   }
  },
  {
   "cell_type": "code",
   "execution_count": 43,
   "outputs": [],
   "source": [
    "ps = np.array([measure(xo,xs) for i in range(100)])\n",
    "xlocs = ps[:,0]*np.cos(ps[:,1])\n",
    "ylocs = ps[:,0]*np.sin(ps[:,1])"
   ],
   "metadata": {
    "collapsed": false,
    "pycharm": {
     "name": "#%%\n"
    }
   }
  },
  {
   "cell_type": "code",
   "execution_count": 44,
   "outputs": [
    {
     "data": {
      "text/plain": "<Figure size 432x288 with 1 Axes>",
      "image/png": "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\n"
     },
     "metadata": {
      "needs_background": "light"
     },
     "output_type": "display_data"
    }
   ],
   "source": [
    "fig, ax = plt.subplots(1,1)\n",
    "ax.scatter(xlocs, ylocs, marker='o')\n",
    "ax.set(xlim=(0,2), ylim=(0,2))\n",
    "plt.show()"
   ],
   "metadata": {
    "collapsed": false,
    "pycharm": {
     "name": "#%%\n"
    }
   }
  }
 ],
 "metadata": {
  "kernelspec": {
   "display_name": "Python 3",
   "language": "python",
   "name": "python3"
  },
  "language_info": {
   "codemirror_mode": {
    "name": "ipython",
    "version": 3
   },
   "file_extension": ".py",
   "mimetype": "text/x-python",
   "name": "python",
   "nbconvert_exporter": "python",
   "pygments_lexer": "ipython3",
   "version": "3.6.9"
  }
 },
 "nbformat": 4,
 "nbformat_minor": 4
}