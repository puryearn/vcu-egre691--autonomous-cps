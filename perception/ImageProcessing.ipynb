{
 "cells": [
  {
   "cell_type": "code",
   "execution_count": null,
   "metadata": {},
   "outputs": [],
   "source": [
    "import cv2\n",
    "import numpy as np\n",
    "import matplotlib.pyplot as plt"
   ]
  },
  {
   "cell_type": "code",
   "execution_count": null,
   "metadata": {},
   "outputs": [],
   "source": [
    "# Let's load some images from the Berkeley driving dataset.\n",
    "img1 = cv2.imread('data/0a0eaeaf-9ad0c6dd.jpg')\n",
    "img2 = cv2.imread('data/0a9d2d3e-50c65398.jpg')\n",
    "img3 = cv2.imread('data/90775bce-a0a1817a.jpg')\n",
    "img4 = cv2.imread('data/0a62ffee-85e97e08.jpg')"
   ]
  },
  {
   "cell_type": "code",
   "execution_count": null,
   "metadata": {},
   "outputs": [],
   "source": [
    "fig, ax = plt.subplots(1, 1)\n",
    "fig.set_size_inches((10,8))\n",
    "# NOTE: OpenCV stores images as BGR, but Matplotlib expects RGB\n",
    "plt.imshow(cv2.cvtColor(img1, cv2.COLOR_BGR2RGB))\n",
    "plt.axis('off')"
   ]
  },
  {
   "cell_type": "code",
   "execution_count": null,
   "metadata": {},
   "outputs": [],
   "source": [
    "# We will experiment with each channel separately.\n",
    "img1_blue, img1_green, img1_red = cv2.split(img1)\n",
    "# First the blue channel...\n",
    "fig, ax = plt.subplots(1)\n",
    "fig.set_size_inches((10,8))\n",
    "ax.imshow(img1_blue, cmap='gray', vmin=0, vmax=255)\n",
    "ax.axis('off')\n",
    "plt.show()"
   ]
  },
  {
   "cell_type": "markdown",
   "metadata": {},
   "source": [
    "## Monadic Filters\n",
    "Here are a couple useful examples: thresholding and gamma correction. \n",
    "Thresholding (`cv2.threshold` - miscellaneous transform) needs the image in grayscale."
   ]
  },
  {
   "cell_type": "code",
   "execution_count": null,
   "metadata": {},
   "outputs": [],
   "source": [
    "img1_gray = cv2.cvtColor(img1, cv2.COLOR_BGR2GRAY)\n",
    "fig, ax = plt.subplots(1)\n",
    "fig.set_size_inches((10,8))\n",
    "ax.imshow(img1_gray, cmap='gray', vmin=0, vmax=255)\n",
    "ax.axis('off')\n",
    "plt.show()"
   ]
  },
  {
   "cell_type": "code",
   "execution_count": null,
   "metadata": {},
   "outputs": [],
   "source": [
    "# What's the histogram? image, channel number, image mask (not using one), number of bins, pixel range\n",
    "img1_hist = cv2.calcHist([img1_gray], [0], None, [256], [0,256])"
   ]
  },
  {
   "cell_type": "code",
   "execution_count": null,
   "metadata": {},
   "outputs": [],
   "source": [
    "plt.plot(img1_hist)\n",
    "plt.xlim([0,256])\n",
    "plt.show()"
   ]
  },
  {
   "cell_type": "code",
   "execution_count": null,
   "metadata": {},
   "outputs": [],
   "source": [
    "_, img1_thresh = cv2.threshold(img1_gray,120,255,cv2.THRESH_BINARY)"
   ]
  },
  {
   "cell_type": "code",
   "execution_count": null,
   "metadata": {},
   "outputs": [],
   "source": [
    "fig, ax = plt.subplots(1)\n",
    "fig.set_size_inches((10,8))\n",
    "ax.imshow(img1_thresh, cmap='gray', vmin=0, vmax=255)\n",
    "ax.axis('off')\n",
    "plt.show()"
   ]
  },
  {
   "cell_type": "markdown",
   "metadata": {},
   "source": [
    "That was not super great. Let's perform some gamma correction first."
   ]
  },
  {
   "cell_type": "code",
   "execution_count": null,
   "metadata": {},
   "outputs": [],
   "source": [
    "# gamma < 1 => darker...gamma > 1.0 => brighter\n",
    "def correct_gamma(img, gamma=1.0):\n",
    "    igamma = 1.0 / gamma\n",
    "    img_corr = (img1 / 255.)**igamma * 255\n",
    "    return img_corr.astype('uint8')"
   ]
  },
  {
   "cell_type": "code",
   "execution_count": null,
   "metadata": {},
   "outputs": [],
   "source": [
    "img1_corr = correct_gamma(img1, gamma=1.5)"
   ]
  },
  {
   "cell_type": "code",
   "execution_count": null,
   "metadata": {},
   "outputs": [],
   "source": [
    "fig, ax = plt.subplots(1, 1)\n",
    "fig.set_size_inches((10,8))\n",
    "plt.imshow(cv2.cvtColor(img1_corr, cv2.COLOR_BGR2RGB))\n",
    "plt.axis('off')"
   ]
  },
  {
   "cell_type": "markdown",
   "metadata": {},
   "source": [
    "## Spatial Operations\n",
    "These filters use a neighborhood around a chosen input point, $(u,v)$, to generate an output point in outuput image $O$."
   ]
  },
  {
   "cell_type": "code",
   "execution_count": null,
   "metadata": {},
   "outputs": [],
   "source": [
    "# Simple blur with a 21x21 kernel\n",
    "n = 11\n",
    "K = np.ones((n,n), np.float32) / (n**2)"
   ]
  },
  {
   "cell_type": "code",
   "execution_count": null,
   "metadata": {},
   "outputs": [],
   "source": [
    "img1_smooth = cv2.filter2D(img1,-1,K)"
   ]
  },
  {
   "cell_type": "code",
   "execution_count": null,
   "metadata": {},
   "outputs": [],
   "source": [
    "fig, ax = plt.subplots(1, 1)\n",
    "fig.set_size_inches((10,8))\n",
    "plt.imshow(cv2.cvtColor(img1_smooth, cv2.COLOR_BGR2RGB))\n",
    "plt.axis('off')"
   ]
  },
  {
   "cell_type": "code",
   "execution_count": null,
   "metadata": {},
   "outputs": [],
   "source": [
    "# A Gaussian blur performs a weighted average with a kernel that has values \n",
    "# computed from a Gaussian distribution\n",
    "ksize = (7,7)\n",
    "# Passing in 0 for sigmaX results in a std dev computed based on kernel size. I am using the gamma corrected image.\n",
    "img1_gauss = cv2.GaussianBlur(img1_corr, ksize, sigmaX=0)\n",
    "print(\"Gaussian kernel:\\n\")\n",
    "# We can look at the Gaussian kernel with the following function:\n",
    "print(cv2.getGaussianKernel(ksize=7, sigma=0))"
   ]
  },
  {
   "cell_type": "code",
   "execution_count": null,
   "metadata": {},
   "outputs": [],
   "source": [
    "fig, ax = plt.subplots(1, 1)\n",
    "fig.set_size_inches((10,8))\n",
    "plt.imshow(cv2.cvtColor(img1_gauss, cv2.COLOR_BGR2RGB))\n",
    "plt.axis('off')"
   ]
  },
  {
   "cell_type": "code",
   "execution_count": null,
   "metadata": {},
   "outputs": [],
   "source": [
    "img1_gauss_gray = cv2.cvtColor(img1_gauss, cv2.COLOR_BGR2GRAY)\n",
    "# Let's examine a single row across the middle of the image\n",
    "h = 500\n",
    "img1_row = img1_gauss_gray[h, :]\n",
    "fig, ax = plt.subplots(1, 1)\n",
    "fig.set_size_inches((10,8))\n",
    "plt.imshow(img1_gauss_gray, cmap='gray')\n",
    "plt.plot([0,img1_gauss_gray.shape[1]-1],[h,h], 'r-')\n",
    "plt.axis('on')\n",
    "plt.show()"
   ]
  },
  {
   "cell_type": "code",
   "execution_count": null,
   "metadata": {},
   "outputs": [],
   "source": [
    "# Let's see the 1D signal\n",
    "fig, ax = plt.subplots(1, 1)\n",
    "fig.set_size_inches((10,5))\n",
    "plt.plot(img1_row)\n",
    "plt.xlim(0,1280)\n",
    "plt.show()"
   ]
  },
  {
   "cell_type": "code",
   "execution_count": null,
   "metadata": {},
   "outputs": [],
   "source": [
    "# I can convolve with the 1D difference filter. Something interesting will show up!\n",
    "img1_row_d = np.convolve(img1_row, np.array([-1,0,1]))\n",
    "fig, ax = plt.subplots(1, 1)\n",
    "fig.set_size_inches((10,5))\n",
    "plt.plot(img1_row_d)\n",
    "plt.xlim(0,1280)\n",
    "plt.ylim(-50,100)\n",
    "plt.show()"
   ]
  },
  {
   "cell_type": "code",
   "execution_count": null,
   "metadata": {},
   "outputs": [],
   "source": [
    "# The Sobel filter is a 2D weighted derivative. You convolve the image with each direction.\n",
    "S_x = cv2.Sobel(img1_gauss_gray,cv2.CV_64F,1,0,ksize=3)\n",
    "S_y = cv2.Sobel(img1_gauss_gray,cv2.CV_64F,0,1,ksize=3)"
   ]
  },
  {
   "cell_type": "code",
   "execution_count": null,
   "metadata": {},
   "outputs": [],
   "source": [
    "fig, ax = plt.subplots(1, 1)\n",
    "fig.set_size_inches((10,8))\n",
    "plt.imshow(cv2.convertScaleAbs(S_x), cmap='gray')\n",
    "plt.axis('off')"
   ]
  },
  {
   "cell_type": "code",
   "execution_count": null,
   "metadata": {},
   "outputs": [],
   "source": [
    "fig, ax = plt.subplots(1, 1)\n",
    "fig.set_size_inches((10,8))\n",
    "plt.imshow(cv2.convertScaleAbs(S_y), cmap='gray')\n",
    "plt.axis('off')"
   ]
  },
  {
   "cell_type": "code",
   "execution_count": null,
   "metadata": {},
   "outputs": [],
   "source": [
    "# Now we put them together! Need to compute their magnitude.\n",
    "img1_gradmag = np.sqrt(np.square(S_x) + np.square(S_y))"
   ]
  },
  {
   "cell_type": "code",
   "execution_count": null,
   "metadata": {},
   "outputs": [],
   "source": [
    "fig, ax = plt.subplots(1, 1)\n",
    "fig.set_size_inches((10,8))\n",
    "plt.imshow(np.abs(img1_gradmag).astype(np.uint8), cmap='gray')\n",
    "plt.axis('off')"
   ]
  },
  {
   "cell_type": "code",
   "execution_count": null,
   "metadata": {},
   "outputs": [],
   "source": [
    "# The Laplacian applies a second derivative\n",
    "img1_laplacian = cv2.Laplacian(img1_gauss_gray, cv2.CV_16S, ksize=3)\n",
    "fig, ax = plt.subplots(1, 1)\n",
    "fig.set_size_inches((10,8))\n",
    "plt.imshow(cv2.convertScaleAbs(img1_laplacian), cmap='gray')\n",
    "plt.axis('off')"
   ]
  },
  {
   "cell_type": "code",
   "execution_count": null,
   "metadata": {},
   "outputs": [],
   "source": [
    "# Let's use a Canny detector for finding edges!\n",
    "img1_gray = cv2.cvtColor(img1, cv2.COLOR_BGR2GRAY)\n",
    "img1_canny = cv2.Canny(img1_gray,100,200)\n",
    "fig, ax = plt.subplots(1, 1)\n",
    "fig.set_size_inches((10,8))\n",
    "plt.imshow(img1_canny, cmap='gray')\n",
    "plt.axis('off')"
   ]
  },
  {
   "cell_type": "markdown",
   "metadata": {},
   "source": [
    "## Hough Transform - Finding Lines\n",
    "Motivation: lines are described in polar form. \n",
    "For every edge point in an image, compute the family of lines over a discretized parameter space.\n",
    "Intersections in parameter space indicate an $(r,\\theta)$ solution for a line that fits those image points."
   ]
  },
  {
   "cell_type": "code",
   "execution_count": null,
   "metadata": {},
   "outputs": [],
   "source": [
    "\n",
    "rho = 1 # pixel discretization\n",
    "thetas = [i*np.pi / 180 for i in range(0,360)]\n",
    "def polar_line(pt, theta):\n",
    "    return pt[0]*np.cos(theta) + pt[1]*np.sin(theta)"
   ]
  },
  {
   "cell_type": "code",
   "execution_count": null,
   "metadata": {},
   "outputs": [],
   "source": [
    "rs1 = polar_line((8,6), thetas)\n",
    "rs2 = polar_line((4,9), thetas)\n",
    "rs3 = polar_line((12,3), thetas)"
   ]
  },
  {
   "cell_type": "code",
   "execution_count": null,
   "metadata": {},
   "outputs": [],
   "source": [
    "plt.plot(thetas, rs1)\n",
    "plt.plot(thetas, rs2)\n",
    "plt.plot(thetas, rs3)\n",
    "plt.show()"
   ]
  },
  {
   "cell_type": "markdown",
   "metadata": {},
   "source": [
    "Hough line transform on our street image..."
   ]
  },
  {
   "cell_type": "code",
   "execution_count": null,
   "metadata": {},
   "outputs": [],
   "source": [
    "from math import cos, sin\n",
    "lines = cv2.HoughLines(img1_canny, 1, np.pi / 180, 300, None, 0, 0)\n",
    "lines = lines.reshape(lines.shape[0], 2)"
   ]
  },
  {
   "cell_type": "code",
   "execution_count": null,
   "metadata": {},
   "outputs": [],
   "source": [
    "hough_lines = []\n",
    "if lines is not None:\n",
    "    for line in lines:\n",
    "        r = line[0]\n",
    "        theta = line[1]\n",
    "        a = cos(theta)\n",
    "        b = sin(theta)\n",
    "        x0 = a * r\n",
    "        y0 = b * r\n",
    "        hough_lines.append(np.array([int(x0 + 1000*(-b)), int(y0 + 1000*(a)), int(x0 - 1000*(-b)), int(y0 - 1000*(a))]))\n",
    "print(\"We have {0} lines.\".format(len(hough_lines)))"
   ]
  },
  {
   "cell_type": "code",
   "execution_count": null,
   "metadata": {},
   "outputs": [],
   "source": [
    "img1_row = img1_gauss_gray[h, :]\n",
    "fig, ax = plt.subplots(1, 1)\n",
    "fig.set_size_inches((10,8))\n",
    "plt.imshow(img1_gauss_gray, cmap='gray')\n",
    "for l in hough_lines:\n",
    "    plt.plot([l[0],l[2]],[l[1],l[3]], 'r--')\n",
    "plt.axis('on')\n",
    "plt.xlim(0,1280)\n",
    "plt.ylim(720,0)\n",
    "plt.show()"
   ]
  },
  {
   "cell_type": "code",
   "execution_count": null,
   "metadata": {},
   "outputs": [],
   "source": []
  }
 ],
 "metadata": {
  "kernelspec": {
   "display_name": "Python 3",
   "language": "python",
   "name": "python3"
  },
  "language_info": {
   "codemirror_mode": {
    "name": "ipython",
    "version": 3
   },
   "file_extension": ".py",
   "mimetype": "text/x-python",
   "name": "python",
   "nbconvert_exporter": "python",
   "pygments_lexer": "ipython3",
   "version": "3.8.5"
  }
 },
 "nbformat": 4,
 "nbformat_minor": 4
}
