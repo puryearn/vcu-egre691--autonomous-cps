{
 "cells": [
  {
   "cell_type": "code",
   "execution_count": null,
   "metadata": {},
   "outputs": [],
   "source": [
    "import numpy as np\n",
    "from math import cos, sin, pi"
   ]
  },
  {
   "cell_type": "markdown",
   "metadata": {},
   "source": [
    "# Building and Transforming Coordinates\n",
    "In this exercise you will expand upon our lecture content by building your own vector manipulations in 2D and 3D Cartesian space.\n",
    "First, **implement a 2D rotation transformation**, `rotation_2d`, with input `theta`. \n",
    "It should return the $2\\times 2$ matrix $R(\\theta)$."
   ]
  },
  {
   "cell_type": "code",
   "execution_count": null,
   "metadata": {},
   "outputs": [],
   "source": [
    "# def rotation_2d(...)"
   ]
  },
  {
   "cell_type": "markdown",
   "metadata": {},
   "source": [
    "Consider a coordinate frame, $A$, that is rotated $\\frac{\\pi}{2} \\ rad$ relative to the origin frame $O$. Let ${}^Ap = [1.0 \\ 0.0]^T$.\n",
    "Predict what this vector would be with respect to the **original coordinate frame**, $O$ (Draw a picture!).\n",
    "Apply your implement transformation function to verify!"
   ]
  },
  {
   "cell_type": "code",
   "execution_count": null,
   "metadata": {},
   "outputs": [],
   "source": [
    "# pA = np.array([1.,0.]).reshape(2,1)\n",
    "# Apply your function..."
   ]
  },
  {
   "cell_type": "markdown",
   "metadata": {},
   "source": [
    "Now, let's put this together with translation to make a `rigid_transformation2d` function that will map an input vector, ${}^Xp$, defined in some frame $X$ and will map it to a target frame $Y$.\n",
    "\n",
    "**Inputs**: angle of rotation, $\\theta$, and relative translation vector, ${}^Y\\xi_X$.\n",
    "\n",
    "**Outputs**: The $3 \\times 3$ homogeneous matrix.\n",
    "\n",
    "Useful `numpy` APIs: [`block`](https://numpy.org/doc/stable/reference/generated/numpy.block.html), [`append`](https://numpy.org/doc/stable/reference/generated/numpy.append.html)."
   ]
  },
  {
   "cell_type": "code",
   "execution_count": null,
   "metadata": {},
   "outputs": [],
   "source": [
    "# def rigid_transformation2d(...)"
   ]
  },
  {
   "cell_type": "markdown",
   "metadata": {},
   "source": [
    "Based on the diagram in the class notes, let coordinate frame $A$ be translated by ${}^O\\xi_A=[1.0, 1.0]^T$ and rotated by $\\theta=\\pi/2$ **relative to** $O$.\n",
    "What is the vector ${}^Ap=[2.0, 2.0]^T$ in the $O$ coordinate frame? (e.g. ${}^Op$)"
   ]
  },
  {
   "cell_type": "code",
   "execution_count": null,
   "metadata": {},
   "outputs": [],
   "source": []
  },
  {
   "cell_type": "markdown",
   "metadata": {},
   "source": [
    "With **same** details for frame $O$ and $A$, what would ${}^Op=[1.0, 0.0]^T$ be **with respect to frame** $A$?"
   ]
  },
  {
   "cell_type": "code",
   "execution_count": null,
   "metadata": {},
   "outputs": [],
   "source": []
  }
 ],
 "metadata": {
  "kernelspec": {
   "display_name": "Python 3",
   "language": "python",
   "name": "python3"
  },
  "language_info": {
   "codemirror_mode": {
    "name": "ipython",
    "version": 3
   },
   "file_extension": ".py",
   "mimetype": "text/x-python",
   "name": "python",
   "nbconvert_exporter": "python",
   "pygments_lexer": "ipython3",
   "version": "3.6.9"
  }
 },
 "nbformat": 4,
 "nbformat_minor": 4
}
