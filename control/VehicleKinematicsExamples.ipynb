{
 "cells": [
  {
   "cell_type": "markdown",
   "metadata": {},
   "source": [
    "# Vehicle Kinematics Examples\n",
    "\n",
    "This code experiments with kinematic models commonly used in the autonomous mobile robot and vehicle domains."
   ]
  },
  {
   "cell_type": "code",
   "execution_count": null,
   "metadata": {},
   "outputs": [],
   "source": [
    "import matplotlib.pyplot as plt\n",
    "%matplotlib inline\n",
    "import numpy as np\n",
    "from scipy.integrate import solve_ivp\n",
    "from math import cos, sin, pi\n",
    "from functools import partial"
   ]
  },
  {
   "cell_type": "markdown",
   "metadata": {},
   "source": [
    "Let's start with our simple unicycle equations of motion - control inputs are simply the forward speed, $v$, and rotational speed, $\\omega$.\n",
    "We implement the dynamics as a python function that depends on time, position, and input signals.\n",
    "\n",
    "The **state** of the vehicle is defined as $\\dot{x} = [x \\ y \\ \\theta]^T$."
   ]
  },
  {
   "cell_type": "code",
   "execution_count": null,
   "metadata": {},
   "outputs": [],
   "source": [
    "# I provide by default no control input.\n",
    "def unicycle_motion(t, x, u_fn=lambda t, x : [0,0]):\n",
    "    '''\n",
    "    Parameters:\n",
    "    t : float\n",
    "        current time\n",
    "    x : list(float)\n",
    "        current state\n",
    "    u_fn : function\n",
    "        control function; defaults to no control input\n",
    "    '''\n",
    "    [v, omega] = u_fn(t, x)\n",
    "    theta = x[2]\n",
    "    x_dot = v*cos(theta)\n",
    "    y_dot = v*sin(theta)\n",
    "    theta_dot = omega\n",
    "    return [x_dot, y_dot, omega]"
   ]
  },
  {
   "cell_type": "markdown",
   "metadata": {},
   "source": [
    "The above function returns the values for $\\dot{x}$, the instantaneous change of all state variables.\n",
    "We need to simulate in a **discrete** environment, since we are using a computer!\n",
    "To do so, we will use numerical integration to compute the trajectories of the state under different control inputs.\n",
    "This process solves the **initial value problem** (IVP) using [`scipy.integrate.solve_ivp`](https://docs.scipy.org/doc/scipy/reference/generated/scipy.integrate.solve_ivp.html#scipy.integrate.solve_ivp)."
   ]
  },
  {
   "cell_type": "code",
   "execution_count": null,
   "metadata": {},
   "outputs": [],
   "source": [
    "# Final time - we will run for 10 seconds\n",
    "t_f = 10.0 \n",
    "# Set the time span\n",
    "t_span = (0.0, t_f)\n",
    "# Initial state of the vehicle - the origin\n",
    "x_0 = [0., 0., 0.]\n",
    "# Define a fixed, open-loop controller that has a forward speed of v = 0.5 m/s\n",
    "# and a rotational speed of pi/6 rad/s.\n",
    "u_const_fn = lambda t,x : [0.5, pi/6.0]\n",
    "# Some fancy python footwork to bind this lambda to the unicycle motion model\n",
    "model_fn = partial(unicycle_motion, u_fn=u_const_fn)"
   ]
  },
  {
   "cell_type": "code",
   "execution_count": null,
   "metadata": {},
   "outputs": [],
   "source": [
    "# Invoke the IVP solver using Runge-Kutta 23 algorithm. This is a nonlinear system, so we need something better than Euler integration.\n",
    "# It returns a solution structure with the state values for plotting.\n",
    "soln = solve_ivp( model_fn, t_span, x_0, method='RK23', dense_output=False )"
   ]
  },
  {
   "cell_type": "code",
   "execution_count": null,
   "metadata": {},
   "outputs": [],
   "source": [
    "# Key data stored in the soln structure\n",
    "T = soln.t\n",
    "X = soln.y"
   ]
  },
  {
   "cell_type": "code",
   "execution_count": null,
   "metadata": {},
   "outputs": [],
   "source": [
    "# Let's plot the (x,y) evolution of the unicycle\n",
    "def plot_xy_trajectory(X, xlim=None, ylim=None):\n",
    "    fig,ax = plt.subplots(1)\n",
    "    if xlim is not None:\n",
    "        ax.set_xlim(xlim)\n",
    "    if ylim is not None:\n",
    "        ax.set_ylim(ylim)\n",
    "    plt.plot(X[0,:], X[1,:], 'b--')\n",
    "    plt.plot(0., 0., 'k*')\n",
    "    plt.plot(X[0,-1], X[1,-1], 'go')"
   ]
  },
  {
   "cell_type": "code",
   "execution_count": null,
   "metadata": {},
   "outputs": [],
   "source": [
    "plot_xy_trajectory(X)"
   ]
  },
  {
   "cell_type": "code",
   "execution_count": null,
   "metadata": {},
   "outputs": [],
   "source": [
    "# For grins, let's make a time varying open-loop controller that oscillates the angular speed and reduces the forward speed.\n",
    "def open_loop(t, x, t_f, alpha=0.1):\n",
    "    u_1 = alpha*(t_f - t)\n",
    "    u_2 = sin(pi*t)\n",
    "    return [u_1, u_2]"
   ]
  },
  {
   "cell_type": "code",
   "execution_count": null,
   "metadata": {},
   "outputs": [],
   "source": [
    "model_fn2 = partial(unicycle_motion, u_fn=partial(open_loop, t_f=t_f))\n",
    "soln2 = solve_ivp( model_fn2, t_span, x_0, method='RK23', dense_output=False )"
   ]
  },
  {
   "cell_type": "code",
   "execution_count": null,
   "metadata": {},
   "outputs": [],
   "source": [
    "plot_xy_trajectory(soln2.y)"
   ]
  }
 ],
 "metadata": {
  "kernelspec": {
   "display_name": "Python 3",
   "language": "python",
   "name": "python3"
  },
  "language_info": {
   "codemirror_mode": {
    "name": "ipython",
    "version": 3
   },
   "file_extension": ".py",
   "mimetype": "text/x-python",
   "name": "python",
   "nbconvert_exporter": "python",
   "pygments_lexer": "ipython3",
   "version": "3.8.5"
  }
 },
 "nbformat": 4,
 "nbformat_minor": 4
}
