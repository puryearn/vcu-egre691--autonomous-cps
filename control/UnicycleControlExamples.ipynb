{
 "cells": [
  {
   "cell_type": "markdown",
   "metadata": {},
   "source": [
    "# Unicycle Control Examples\n",
    "\n",
    "This code illustrates how we integrate the theory from class into computational models."
   ]
  },
  {
   "cell_type": "code",
   "execution_count": null,
   "metadata": {},
   "outputs": [],
   "source": [
    "import matplotlib.pyplot as plt\n",
    "%matplotlib inline\n",
    "import numpy as np\n",
    "from scipy.integrate import solve_ivp\n",
    "from math import cos, sin, pi, atan2, dist\n",
    "from functools import partial\n",
    "import sympy as sym"
   ]
  },
  {
   "cell_type": "markdown",
   "metadata": {},
   "source": [
    "We will redefine our unicycle dynamics function."
   ]
  },
  {
   "cell_type": "code",
   "execution_count": null,
   "metadata": {},
   "outputs": [],
   "source": [
    "# I provide by default no control input.\n",
    "def unicycle_motion(t, x, u_fn=lambda t, x : [0,0]):\n",
    "    '''\n",
    "    Parameters:\n",
    "    t : float\n",
    "        current time\n",
    "    x : list(float)\n",
    "        current state\n",
    "    u_fn : function\n",
    "        control function; defaults to no control input\n",
    "    '''\n",
    "    [v, omega] = u_fn(t, x)\n",
    "    theta = x[2]\n",
    "    x_dot = v*cos(theta)\n",
    "    y_dot = v*sin(theta)\n",
    "    theta_dot = omega\n",
    "    return [x_dot, y_dot, omega]"
   ]
  },
  {
   "cell_type": "code",
   "execution_count": null,
   "metadata": {},
   "outputs": [],
   "source": [
    "# Let's plot the (x,y) evolution of the unicycle\n",
    "def plot_xy_trajectory(X, xlim=None, ylim=None):\n",
    "    fig,ax = plt.subplots(1)\n",
    "    if xlim is not None:\n",
    "        ax.set_xlim(xlim)\n",
    "    if ylim is not None:\n",
    "        ax.set_ylim(ylim)\n",
    "    plt.plot(X[0,:], X[1,:], 'b--')\n",
    "    plt.plot(0., 0., 'k*')\n",
    "    plt.plot(X[0,-1], X[1,-1], 'go')"
   ]
  },
  {
   "cell_type": "markdown",
   "metadata": {},
   "source": [
    "## Proportional Control GoToGoal\n",
    "\n",
    "This is the simplest control algorithm that just uses the error signal of $e(t)=\\theta_g(t) - \\theta_R(t)$ to change how it moves.\n",
    "Once the vehicle gets close to the goal, it stops."
   ]
  },
  {
   "cell_type": "code",
   "execution_count": null,
   "metadata": {},
   "outputs": [],
   "source": [
    "def simple_gotogoal(t, x, x_g=None, v_0=0.5, k=1.0, eps=0.1):\n",
    "    '''\n",
    "    This function takes a proportional constant, k, to affect the strength\n",
    "    of the correction. You also supply some constant forward, v0.\n",
    "    '''\n",
    "    if x_g is not None:\n",
    "        # Set the forward speed\n",
    "        if dist(x[0:2], x_g[0:2]) > eps:\n",
    "            u_1 = v_0\n",
    "        else:\n",
    "            u_1 = 0.0\n",
    "        # theta = x[2]!\n",
    "        u_2 = k*(atan2(x_g[1]-x[1], x_g[0]-x[0]) - x[2])\n",
    "        return [u_1, u_2]\n",
    "    else:\n",
    "        # No goal provided. Do nothing.\n",
    "        return [0., 0.]"
   ]
  },
  {
   "cell_type": "code",
   "execution_count": null,
   "metadata": {},
   "outputs": [],
   "source": [
    "# Pick the goal location and create the partial function\n",
    "u_gtg = partial(simple_gotogoal, x_g=[2.0, 1.0, 0.0])"
   ]
  },
  {
   "cell_type": "code",
   "execution_count": null,
   "metadata": {},
   "outputs": [],
   "source": [
    "# Simulate\n",
    "model_fn = partial(unicycle_motion, u_fn=u_gtg)\n",
    "# Final time\n",
    "t_f = 5.0 \n",
    "t_span = (0.0, t_f)\n",
    "# Initial state of the vehicle - the origin\n",
    "x_0 = [0., 0., pi/2+0.4]\n",
    "soln = solve_ivp( model_fn, t_span, x_0, method='RK23', dense_output=False )"
   ]
  },
  {
   "cell_type": "code",
   "execution_count": null,
   "metadata": {},
   "outputs": [],
   "source": [
    "plot_xy_trajectory(soln.y)"
   ]
  },
  {
   "cell_type": "code",
   "execution_count": null,
   "metadata": {},
   "outputs": [],
   "source": [
    "plt.plot(soln.t, soln.y[0], soln.t, soln.y[1])\n",
    "plt.xlabel('Time (s)')"
   ]
  },
  {
   "cell_type": "markdown",
   "metadata": {},
   "source": [
    "## Nonlinear GoToGoal\n",
    "\n",
    "This method was developed using Lyapunov theory and is proven to drive the robot any $x_g\\in X$.\n",
    "It will sometimes be slower than the naive proportional controller."
   ]
  },
  {
   "cell_type": "code",
   "execution_count": null,
   "metadata": {},
   "outputs": [],
   "source": [
    "# A more elegant nonlinear controller\n",
    "def nonlinear_gotogoal(t, x, x_g=None, k=1.0, eps=0.1):\n",
    "    if x_g is not None:\n",
    "        d = dist(x[0:2], x_g[0:2])\n",
    "        theta_g = atan2(x_g[1]-x[1], x_g[0]-x[0])\n",
    "        if d < 0.1:\n",
    "            return [0., 0.]\n",
    "        else:\n",
    "            v = k*d*cos(theta_g - x[2])\n",
    "            omega = k*d*sin(theta_g - x[2])\n",
    "        return [v, omega]\n",
    "    else:\n",
    "        return [0.,0.]    "
   ]
  },
  {
   "cell_type": "code",
   "execution_count": null,
   "metadata": {},
   "outputs": [],
   "source": [
    "u_gtg2 = partial(nonlinear_gotogoal, x_g=[2.0, 1.0, 0.0], k=2.0)\n",
    "model_fn2 = partial(unicycle_motion, u_fn=u_gtg2)"
   ]
  },
  {
   "cell_type": "code",
   "execution_count": null,
   "metadata": {},
   "outputs": [],
   "source": [
    "x_0 = [0., 0., pi/2+0.4]\n",
    "t_span=(0,5)\n",
    "soln = solve_ivp( model_fn2, t_span, x_0, method='RK23', dense_output=True )"
   ]
  },
  {
   "cell_type": "code",
   "execution_count": null,
   "metadata": {},
   "outputs": [],
   "source": [
    "plot_xy_trajectory(soln.y)"
   ]
  },
  {
   "cell_type": "code",
   "execution_count": null,
   "metadata": {},
   "outputs": [],
   "source": [
    "plt.plot(soln.t, soln.y[0], soln.t, soln.y[1])\n",
    "plt.xlabel('Time (s)')"
   ]
  },
  {
   "cell_type": "markdown",
   "metadata": {},
   "source": [
    "## Linearized Unicycle\n",
    "\n",
    "It is nice to have these other controllers, but would be better is to abstract the whole unicycle as a single point!\n",
    "To do so, we derived a result in class tha enables us to create linear controllers that move the point, rather than deal with the complexities of a nonlinear model.\n",
    "The tradeoff is some tracking error."
   ]
  },
  {
   "cell_type": "code",
   "execution_count": null,
   "metadata": {},
   "outputs": [],
   "source": [
    "def linearized_unicycle_motion(t, x, l=0.02, u_fn=lambda t, x : [0,0]):\n",
    "    '''\n",
    "    This function consumes a 2D control vector that assumes the control of a point.\n",
    "    You provide the offset length, l. In the default, it would be 5cm  from the center.\n",
    "    '''\n",
    "    x1 = x[0]\n",
    "    x2 = x[1]\n",
    "    x3 = x[2] # theta\n",
    "    u = np.array(u_fn(t, x)) # Original control inputs\n",
    "    # Mapping to v, omega\n",
    "    u_map = np.linalg.inv([[cos(x3), -l*sin(x3)],[sin(x3), l*cos(x3)]]).dot(u)\n",
    "    x_dot = u_map[0]*cos(x3)\n",
    "    y_dot = u_map[0]*sin(x3)\n",
    "    theta_dot = u_map[1]\n",
    "    return [x_dot, y_dot, theta_dot]"
   ]
  },
  {
   "cell_type": "code",
   "execution_count": null,
   "metadata": {},
   "outputs": [],
   "source": [
    "x_0 = [0., 0., 0.]\n",
    "t_span=(0,5)\n",
    "model_fn3 = partial(linearized_unicycle_motion, u_fn=lambda t,x : [0.1, 0.1])\n",
    "soln = solve_ivp( model_fn3, t_span, x_0, method='RK23', dense_output=True )"
   ]
  },
  {
   "cell_type": "code",
   "execution_count": null,
   "metadata": {},
   "outputs": [],
   "source": [
    "plot_xy_trajectory(soln.y)"
   ]
  },
  {
   "cell_type": "code",
   "execution_count": null,
   "metadata": {},
   "outputs": [],
   "source": [
    "plt.plot(soln.t, soln.y[0], soln.t, soln.y[1])\n",
    "plt.xlabel('Time (s)')"
   ]
  },
  {
   "cell_type": "markdown",
   "metadata": {},
   "source": [
    "## Unicycle Trajectory Following\n",
    "\n",
    "This code shows you how to create a state feedback controller that tracks a provided reference trajectory.\n",
    "At this point, all we need is a description of the curve we want to track, $(x_{ref}(t), y_{ref}(t))$, and we place the poles (e.g. state feedback) anywhere on the left half plane.\n",
    "**Why?** A key concept is reducing our error to 0 over time: $e(t)=x_{ref}(t)-x(t)\\rightarrow 0$.\n",
    "Take the derivative to give us:\n",
    "$$\n",
    "\\dot{e} = \\dot{x}_{ref}-\\dot{x} = \\begin{bmatrix} \\dot{x}_{ref} - u_1 \\\\ \\dot{y}_{ref} - u_2 \\end{bmatrix}\n",
    "$$\n",
    "We want to ensure that the error dynamics decay to 0. \n",
    "Thus the control inputs should structure the state feedback so the eigenvalues of the error dynamics are negative."
   ]
  },
  {
   "cell_type": "code",
   "execution_count": null,
   "metadata": {},
   "outputs": [],
   "source": [
    "def figure_eight(t):\n",
    "    return [sin(t/5), sin(t/10)]"
   ]
  },
  {
   "cell_type": "code",
   "execution_count": null,
   "metadata": {},
   "outputs": [],
   "source": [
    "# Take the derivative of the reference signal\n",
    "t = sym.symbols('t')\n",
    "dfig8x = sym.utilities.lambdify(t, sym.diff(sym.sin(t/5.0)))\n",
    "dfig8y = sym.utilities.lambdify(t, sym.diff(sym.sin(t/10.0)))"
   ]
  },
  {
   "cell_type": "code",
   "execution_count": null,
   "metadata": {},
   "outputs": [],
   "source": [
    "def dfigure_eight(t):\n",
    "    return [dfig8x(t), dfig8y(t)]"
   ]
  },
  {
   "cell_type": "markdown",
   "metadata": {},
   "source": [
    "We have everything we need to move forward! Now here is the trajectory tracking controller."
   ]
  },
  {
   "cell_type": "code",
   "execution_count": null,
   "metadata": {},
   "outputs": [],
   "source": [
    "def traj_tracking_controller(t, x, x_ref_fn, dx_ref_fn, k=[1, 1]):\n",
    "    dx_ref = dx_ref_fn(t)\n",
    "    x_ref = x_ref_fn(t)\n",
    "    u_1 = dx_ref[0] + k[0]*(x_ref[0] - x[0])\n",
    "    u_2 = dx_ref[1] + k[1]*(x_ref[1] - x[1])\n",
    "    return [u_1, u_2]"
   ]
  },
  {
   "cell_type": "code",
   "execution_count": null,
   "metadata": {},
   "outputs": [],
   "source": [
    "traj_track_fn = partial(traj_tracking_controller, x_ref_fn=figure_eight, dx_ref_fn=dfigure_eight, k=[0.5, 0.5])"
   ]
  },
  {
   "cell_type": "code",
   "execution_count": null,
   "metadata": {},
   "outputs": [],
   "source": [
    "x_0 = [1., 0., pi/4]\n",
    "t_f  = 100\n",
    "t_span=(0,t_f)\n",
    "model_fn4 = partial(linearized_unicycle_motion, u_fn=traj_track_fn)\n",
    "soln = solve_ivp( model_fn4, t_span, x_0, method='RK23', dense_output=True )"
   ]
  },
  {
   "cell_type": "code",
   "execution_count": null,
   "metadata": {},
   "outputs": [],
   "source": [
    "soln.t\n",
    "num_pts = len(soln.t)"
   ]
  },
  {
   "cell_type": "code",
   "execution_count": null,
   "metadata": {},
   "outputs": [],
   "source": [
    "ts = np.linspace(0,t_f,num_pts)\n",
    "ref_traj = np.array([figure_eight(t) for t in ts])\n",
    "ref_traj.shape"
   ]
  },
  {
   "cell_type": "code",
   "execution_count": null,
   "metadata": {},
   "outputs": [],
   "source": [
    "plt.plot(ref_traj[:,0], ref_traj[:,1], 'r-.')\n",
    "plt.plot(soln.y[0,:], soln.y[1,:], 'k--')"
   ]
  },
  {
   "cell_type": "code",
   "execution_count": null,
   "metadata": {},
   "outputs": [],
   "source": []
  }
 ],
 "metadata": {
  "kernelspec": {
   "display_name": "Python 3",
   "language": "python",
   "name": "python3"
  },
  "language_info": {
   "codemirror_mode": {
    "name": "ipython",
    "version": 3
   },
   "file_extension": ".py",
   "mimetype": "text/x-python",
   "name": "python",
   "nbconvert_exporter": "python",
   "pygments_lexer": "ipython3",
   "version": "3.8.5"
  }
 },
 "nbformat": 4,
 "nbformat_minor": 4
}
